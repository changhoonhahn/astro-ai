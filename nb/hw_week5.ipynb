{
 "cells": [
  {
   "cell_type": "markdown",
   "id": "ab4a1634-87e1-42fa-989f-f6adae14d501",
   "metadata": {},
   "source": [
    "# Homework for Week 5"
   ]
  },
  {
   "cell_type": "code",
   "execution_count": 1,
   "id": "9ec380f0-d48b-4e98-9286-018472678b10",
   "metadata": {},
   "outputs": [],
   "source": [
    "import numpy as np \n",
    "import scipy as sp"
   ]
  },
  {
   "cell_type": "code",
   "execution_count": 2,
   "id": "413141fd-7edb-4d73-abfa-84d480b118e4",
   "metadata": {},
   "outputs": [],
   "source": [
    "%matplotlib inline\n",
    "import matplotlib.pyplot as plt"
   ]
  },
  {
   "cell_type": "code",
   "execution_count": 3,
   "id": "d25516dd-e544-4485-9e90-1d937104b97c",
   "metadata": {},
   "outputs": [],
   "source": [
    "np.random.seed(1)"
   ]
  },
  {
   "cell_type": "code",
   "execution_count": null,
   "id": "dfed7493-f934-48ee-89b5-2334b94d1528",
   "metadata": {},
   "outputs": [],
   "source": []
  }
 ],
 "metadata": {
  "kernelspec": {
   "display_name": "astro-ai",
   "language": "python",
   "name": "astro-ai"
  },
  "language_info": {
   "codemirror_mode": {
    "name": "ipython",
    "version": 3
   },
   "file_extension": ".py",
   "mimetype": "text/x-python",
   "name": "python",
   "nbconvert_exporter": "python",
   "pygments_lexer": "ipython3",
   "version": "3.13.7"
  }
 },
 "nbformat": 4,
 "nbformat_minor": 5
}
